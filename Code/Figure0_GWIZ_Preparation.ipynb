{
 "cells": [
  {
   "cell_type": "markdown",
   "id": "8d62ad07",
   "metadata": {},
   "source": [
    "# Loading COVID-19 GWAS summary statistics, removing NA SNP ID rows and reformatting the file to use as input for the GWIZ package. "
   ]
  },
  {
   "cell_type": "code",
   "execution_count": null,
   "id": "46d9eb9e",
   "metadata": {},
   "outputs": [],
   "source": [
    "gwas <- read.table(\"COVID19_HGI_B2_ALL_20201020.txt.gz_1.0E-5.txt\", sep = \"\\t\", header = TRUE)\n",
    "colnames(gwas) <- c(\"CHR\", \"POS\",\"REF\",\"ALT\",\"SNP\", \"all_meta_N\", \"all_inv_var_meta_beta\",\n",
    "                    \"all_inv_var_meta_sebeta\", \"all_inv_var_meta_p\", \"all_inv_var_het_p\", \"all_meta_sample_N\",\n",
    "                    \"all_meta_AF\",  \"rsid\")\n",
    "head(gwas)"
   ]
  },
  {
   "cell_type": "code",
   "execution_count": null,
   "id": "fc097e63",
   "metadata": {},
   "outputs": [],
   "source": [
    "reformatted_df <- data.frame(phenotype = rep(NA,length(gwas$POS)), dataset = rep(NA,length(gwas$POS)), accession = gwas$rsid, \n",
    "                            control_size = rep(1736547,length(gwas$POS)), case_size = rep(8638,length(gwas$POS)), risk_allele_freq = gwas$all_meta_AF,\n",
    "                            OR = 10**gwas$all_inv_var_meta_beta, model = rep(\"recessive\",length(gwas$POS)))\n",
    "\n",
    "\n",
    "reformatted_df <- reformatted_df[!is.na(reformatted_df$accession),]\n",
    "head(reformatted_df)\n",
    "\n",
    "#The below file is used as input for the GWIZ package\n",
    "write.csv(reformatted_df, \"gwas_df_recessive.csv\", row.names = FALSE)"
   ]
  },
  {
   "cell_type": "markdown",
   "id": "0ecd17ae",
   "metadata": {},
   "source": [
    "# Additional Information:\n",
    "\n",
    "\n",
    "GWAS summary statistics for COVID-19 outcomes meta-analyzed across 21 studies (7855 cases versus 961 804 controls) were acquired from the COVID-19 Host Genetics Initiative website. \n",
    "\n",
    "Specifically the file: \"COVID19_HGI_B2_ALL_20201020.txt.gz_1.0E-5.txt\" was used to simulate the population level SNP data with GWIZ. We first reformatted this file to extract the key input parameters for the GWIZ package.\n",
    "\n",
    "The GWIZ scripts are provided in the github repository \"jonaspatronjp/GWIZ-Rscript\""
   ]
  }
 ],
 "metadata": {
  "kernelspec": {
   "display_name": "R",
   "language": "R",
   "name": "ir"
  }
 },
 "nbformat": 4,
 "nbformat_minor": 5
}
